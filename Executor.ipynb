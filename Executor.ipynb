import boto3
account_id=boto3.client('sts').get_caller_identity().get('Account')     #sts=security token service enables
region=boto3.Session().region_name                                        #you to request temporary credentials
#print(region)                                                            #for IAM users
#print(account_id)          #account details will displayed
ecr_repository='dockimage'
processing_repository_uri='{}.dkr.ecr.{}.amazonaws.com/{}'.format(account_id,region,ecr_repository)
print(processing_repository_uri)

#build docker image    --image tag is generated(ex-accf22ed6ea6)
#!docker build .  

#push this image in ecr registry
!aws ecr get-login-password --region {region} | docker login --username AWS --password-stdin {account_id}.dkr.ecr.{region}.amazonaws.com
!docker tag 8837ffab4956 $processing_repository_uri
!docker push $processing_repository_uri
